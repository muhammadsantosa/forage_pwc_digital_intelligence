{
 "cells": [
  {
   "cell_type": "markdown",
   "metadata": {},
   "source": [
    "# Task 3 Background\n",
    "\n",
    "Today, credit is no longer limited to classical bank loans. The rise of e-commerce has increased the demand for new and more flexible credit solutions. The increased demand has been met by new companies from the fintech sector that offer easily accessible online loans to a wide audience. These new business models offer simple solutions, such as flexible payment schedules or buy-now-pay-later, that can be accessed with just a few clicks. \n",
    "\n",
    "Online merchants also need new ways to procure capital to manufacture their products, as they receive payment only after their product has been sold. In order to meet increasing demand, new credit offerings have emerged. Repayment of these loans is no longer based on a fixed schedule but instead depends directly on online sales. The loan is paid back in instalments with every sale, and thus payments depend directly on the sales volume. \n",
    "\n",
    "Predicting the future cash flows needed for the valuation of a portfolio consisting of these merchant loans is challenging. \n",
    "\n",
    "But you’re up for a challenge, right? \n",
    "\n",
    "Next stop: Zurich.\n",
    "\n",
    "Our client is a large global online lending platform that provides loans to both consumers and merchants. These instruments are classified as assets on the balance sheet. \n",
    "\n",
    "Our audit colleagues have asked for our help to ensure the balance sheet values are correct. The value of the loan portfolio depends on future cash flows, which are stochastic. \n",
    "\n",
    "Our job is to ensure that the client’s portfolio has been valued correctly.\n",
    "\n",
    "# Task and to-do\n",
    "\n",
    "As you are supporting the audit colleagues with the audit for the year 2020, the value of the portfolio shall be determined as of 31 December 2020. For the valuation, you are free to use a tool of your choice (e.g. R, Python, Excel). The following steps will guide you through the valuation:\n",
    "\n",
    "1. Inspect the historical data provided by the client. The data ranges from June 2019 until December 2020. Every month constitutes a vintage and the data includes the loan amount that was originated per vintage, as well as the repayments that have been observed up until and including December 2020 (the vintages are given as rows and the columns specify the period of the repayment).\n",
    "2. Based on the provided data, compute the historical repayment percentages, i.e. every repayment’s share of the origination amount.\n",
    "3. Compute the expected repayment percentages for all vintages over the lifetime of the loans. Details on how the expected repayment percentages are to be computed can be found in the attached assumptions PDF below.\n",
    "4. From the expected repayment percentages, compute the forecasted cash flows using the origination amounts.\n",
    "5. Using the assumed discount rate, derive the present value of the forecasted cash flows and of the portfolio. Don’t forget to convert the annual interest rate to a monthly interest rate.\n",
    "6. The client’s estimate of the portfolio value was CHF 84’993’122.67. How close is this to your own estimate? Compute both the absolute and relative difference. Jakob tells you that the audit team considers any difference smaller than CHF 500’000 to be acceptable given the size of the portfolio. \n",
    "7. Based on the result of your valuation, conclude whether the difference to the client’s estimate falls below his threshold. \n",
    "\n",
    "Jakob notes: The portfolio value should be rounded to two decimal places. The slides can be simple as we'll use them internally first. Focus on correct solutions to set up the team with the right insights. "
   ]
  },
  {
   "metadata": {
    "jupyter": {
     "is_executing": true
    }
   },
   "cell_type": "code",
   "source": [
    "import pandas as pd\n",
    "from pathlib import Path\n",
    "\n",
    "data = pd.read_csv(Path(\"Data.csv\"))"
   ],
   "outputs": [],
   "execution_count": null
  }
 ],
 "metadata": {
  "language_info": {
   "name": "python"
  },
  "kernelspec": {
   "name": "python3",
   "language": "python",
   "display_name": "Python 3 (ipykernel)"
  }
 },
 "nbformat": 4,
 "nbformat_minor": 2
}
